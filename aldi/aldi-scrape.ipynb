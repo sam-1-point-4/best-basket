{
 "cells": [
  {
   "cell_type": "code",
   "execution_count": 27,
   "metadata": {},
   "outputs": [
    {
     "name": "stdout",
     "output_type": "stream",
     "text": [
      "✅ Extracted data saved to: aldi_html/aldi_products.json\n"
     ]
    }
   ],
   "source": [
    "import os\n",
    "import json\n",
    "from bs4 import BeautifulSoup\n",
    "\n",
    "# Directory containing the HTML files\n",
    "directory = \"aldi_html\"\n",
    "\n",
    "# Range of file numbers\n",
    "file_range = range(1, 22)  # 001 to 021\n",
    "\n",
    "# Output list\n",
    "products = []\n",
    "\n",
    "for i in file_range:\n",
    "    filename = f\"page_{i:03}.html\"\n",
    "    filepath = os.path.join(directory, filename)\n",
    "\n",
    "    try:\n",
    "        with open(filepath, \"r\", encoding=\"utf-8\") as file:\n",
    "            soup = BeautifulSoup(file, \"html.parser\")  # Use 'lxml' if installed\n",
    "\n",
    "            # Extract product title\n",
    "            title_tag = soup.find(\"meta\", property=\"og:title\")\n",
    "            title = title_tag[\"content\"].strip() if title_tag else \"N/A\"\n",
    "\n",
    "            # Extract amount info\n",
    "            amount_tag = soup.find(\"span\", class_=\"price__unit\")\n",
    "            amount = amount_tag.text.strip() if amount_tag else \"N/A\"\n",
    "\n",
    "            # Extract image URL\n",
    "            image_tag = soup.find(\"meta\", property=\"og:image\")\n",
    "            image_url = image_tag[\"content\"].strip() if image_tag else \"N/A\"\n",
    "\n",
    "            # Extract price\n",
    "            price_wrapper = soup.find(\"span\", class_=\"price__wrapper\")\n",
    "            price = price_wrapper.text.strip().replace(\"\\n\", \"\") if price_wrapper else \"N/A\"\n",
    "\n",
    "            products.append({\n",
    "                \"file\": filename,\n",
    "                \"title\": title,\n",
    "                \"amount\": amount,\n",
    "                \"price\": price,\n",
    "                \"image\": image_url\n",
    "            })\n",
    "\n",
    "    except Exception as e:\n",
    "        print(f\"Error processing {filename}: {e}\")\n",
    "\n",
    "# Save to JSON\n",
    "output_path = os.path.join(directory, \"aldi_products.json\")\n",
    "with open(output_path, \"w\", encoding=\"utf-8\") as out_file:\n",
    "    json.dump(products, out_file, indent=2, ensure_ascii=False)\n",
    "\n",
    "print(f\"✅ Extracted data saved to: {output_path}\")\n"
   ]
  }
 ],
 "metadata": {
  "kernelspec": {
   "display_name": ".venv",
   "language": "python",
   "name": "python3"
  },
  "language_info": {
   "codemirror_mode": {
    "name": "ipython",
    "version": 3
   },
   "file_extension": ".py",
   "mimetype": "text/x-python",
   "name": "python",
   "nbconvert_exporter": "python",
   "pygments_lexer": "ipython3",
   "version": "3.12.7"
  }
 },
 "nbformat": 4,
 "nbformat_minor": 2
}
