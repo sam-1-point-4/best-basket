{
 "cells": [
  {
   "cell_type": "code",
   "execution_count": null,
   "id": "bd31ae6b",
   "metadata": {},
   "outputs": [],
   "source": [
    "import scrapy\n",
    "\n",
    "class AldibotSpider(scrapy.Spider):\n",
    "    name = 'aldibot'\n",
    "    allowed_domains = ['aldi-nord.de']\n",
    "    start_urls = [\n",
    "        'https://www.aldi-nord.de/sortiment.html'\n",
    "    ]\n",
    "\n",
    "    def parse(self, response):\n",
    "        # Find all category links on the main Sortiment page\n",
    "        category_links = response.css('a.category-tile__link::attr(href)').getall()\n",
    "        for link in category_links:\n",
    "            yield response.follow(link, callback=self.parse_category)\n",
    "\n",
    "    def parse_category(self, response):\n",
    "        # Find all product links on the category page\n",
    "        product_links = response.css('a.product-tile__image-link::attr(href)').getall()\n",
    "        for link in product_links:\n",
    "            yield response.follow(link, callback=self.parse_product)\n",
    "\n",
    "        # Pagination: follow next page if available\n",
    "        next_page = response.css('a.pagination__link--next::attr(href)').get()\n",
    "        if next_page:\n",
    "            yield response.follow(next_page, callback=self.parse_category)\n",
    "\n",
    "    def parse_product(self, response):\n",
    "        product_name = response.css('h1.product-detail-header__title::text').get()\n",
    "        image_url = response.css('img.product-detail-slider__image::attr(src)').get()\n",
    "        price_whole = response.css('span.price__main-value::text').get()\n",
    "        price_decimal = response.css('span.price__decimal-value::text').get()\n",
    "        price = f\"{price_whole}{price_decimal}\" if price_whole and price_decimal else None\n",
    "        product_url = response.url\n",
    "\n",
    "        yield {\n",
    "            'product_name': product_name.strip() if product_name else None,\n",
    "            'image_url': response.urljoin(image_url) if image_url else None,\n",
    "            'product_url': product_url,\n",
    "            'price': price,\n",
    "        }"
   ]
  }
 ],
 "metadata": {
  "kernelspec": {
   "display_name": "Python 3",
   "language": "python",
   "name": "python3"
  },
  "language_info": {
   "name": "python",
   "version": "3.11.9"
  }
 },
 "nbformat": 4,
 "nbformat_minor": 5
}
