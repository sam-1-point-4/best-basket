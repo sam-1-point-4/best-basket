{
 "cells": [
  {
   "cell_type": "code",
   "execution_count": 6,
   "metadata": {},
   "outputs": [
    {
     "name": "stdout",
     "output_type": "stream",
     "text": [
      "✅ Scraping complete. Data saved to rewe_products.json\n"
     ]
    }
   ],
   "source": [
    "import os\n",
    "import json\n",
    "import re\n",
    "from bs4 import BeautifulSoup\n",
    "\n",
    "folder_path = \"rewe_html\"\n",
    "output_file = \"rewe_products.json\"\n",
    "products = []\n",
    "\n",
    "for filename in os.listdir(folder_path):\n",
    "    if not filename.endswith(\".html\"):\n",
    "        continue\n",
    "\n",
    "    with open(os.path.join(folder_path, filename), \"r\", encoding=\"utf-8\") as f:\n",
    "        soup = BeautifulSoup(f, \"lxml\")\n",
    "\n",
    "        # --- JSON-LD structured product info ---\n",
    "        product_data = {}\n",
    "        json_ld = soup.find(\"script\", {\"type\": \"application/ld+json\"})\n",
    "        if json_ld:\n",
    "            try:\n",
    "                product_data = json.loads(json_ld.string)\n",
    "            except Exception:\n",
    "                pass\n",
    "\n",
    "        # --- Title ---\n",
    "        title = product_data.get(\"name\", \"N/A\")\n",
    "\n",
    "        # --- Size (e.g., 250g, 1kg) ---\n",
    "        size = \"N/A\"\n",
    "        if title:\n",
    "            for word in title.split():\n",
    "                if re.fullmatch(r\"\\d+(,\\d+)?(g|ml|kg|l|Stück)\", word):\n",
    "                    size = word\n",
    "                    break\n",
    "\n",
    "        # --- Image ---\n",
    "        image = product_data.get(\"image\", \"N/A\")\n",
    "\n",
    "        # --- Price from <script id^=\"pdpr-propstore\"> ---\n",
    "        price = \"N/A\"\n",
    "        script_tag = soup.find(\"script\", {\"id\": re.compile(r\"^pdpr-propstore\")})\n",
    "        if script_tag:\n",
    "            try:\n",
    "                store_data = json.loads(script_tag.string)\n",
    "                price_cents = store_data[\"productData\"][\"pricing\"][\"price\"]\n",
    "                price = f\"{price_cents / 100:.2f} €\"\n",
    "            except Exception:\n",
    "                pass\n",
    "\n",
    "        # Store product info\n",
    "        products.append({\n",
    "            \"filename\": filename,\n",
    "            \"title\": title,\n",
    "            \"size\": size,\n",
    "            \"image\": image,\n",
    "            \"price\": price\n",
    "        })\n",
    "\n",
    "# Save all to JSON\n",
    "with open(output_file, \"w\", encoding=\"utf-8\") as f:\n",
    "    json.dump(products, f, ensure_ascii=False, indent=2)\n",
    "\n",
    "print(f\"✅ Scraping complete. Data saved to {output_file}\")\n"
   ]
  }
 ],
 "metadata": {
  "kernelspec": {
   "display_name": ".venv",
   "language": "python",
   "name": "python3"
  },
  "language_info": {
   "codemirror_mode": {
    "name": "ipython",
    "version": 3
   },
   "file_extension": ".py",
   "mimetype": "text/x-python",
   "name": "python",
   "nbconvert_exporter": "python",
   "pygments_lexer": "ipython3",
   "version": "3.12.7"
  }
 },
 "nbformat": 4,
 "nbformat_minor": 2
}
