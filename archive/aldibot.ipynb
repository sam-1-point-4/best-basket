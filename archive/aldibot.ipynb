{
 "cells": [
  {
   "cell_type": "code",
   "execution_count": null,
   "id": "bd31ae6b",
   "metadata": {},
   "outputs": [],
   "source": [
    "import scrapy\n",
    "\n",
    "\n",
    "class AldibotSpider(scrapy.Spider):\n",
    "    name = 'aldibot'\n",
    "    allowed_domains = ['aldi-nord.de'] \n",
    "    start_urls = ['https://www.aldi-nord.de/sortiment.html',\n",
    "                  'https://www.aldi-nord.de/sortiment/nahrungsmittel/nudeln-reis.html']\n",
    "\n",
    "    def parse(self, response):\n",
    "            for per_page_url in response.css('.tab-nav--list.dropdown--list.ym-clearfix a::attr(\"href\")').extract():\n",
    "                top_level_category=per_page_url.split(\"/\")[-3]\n",
    "                subcategory=per_page_url.split(\"/\")[-2]\n",
    "                yield response.follow(per_page_url, callback=self.parse_per_page,meta={'top_level_category': top_level_category,'subcategory':subcategory})\n",
    "\n",
    "\n",
    "   \n",
    "    def parse_per_page(self, response):\n",
    "       #Extract product information\n",
    "       top_level_category=response.meta.get('top_level_category')\n",
    "       subcategory=response.meta.get('subcategory')\n",
    "       product_name=response.css(\".box--description--header::text\").extract() \n",
    "       image_url= response.xpath('//div[@class=\"box m-text-image\"]/div/div/img/@src').extract() \n",
    "       product_url= response.css(\".box--wrapper.ym-gl.ym-g25::attr(href)\").extract()\n",
    "       price=response.css(\".box--value::text,.box--decimal::text\").extract() \n",
    "       price=[ ''.join(x) for x in zip(price[0::2], price[1::2]) ]\n",
    "\n",
    "\n",
    "       for item in zip(product_name,image_url,product_url,price):\n",
    "           scraped_info = {\n",
    "              'top_level_category':top_level_category,\n",
    "              'subcategory':subcategory,\n",
    "              'product_name' : item[0].strip(),\n",
    "              'image_url' : item[1],\n",
    "              'product_url' : item[2],\n",
    "              'price' : item[3],\n",
    "              \n",
    "           }\n",
    "\n",
    "           yield scraped_info"
   ]
  }
 ],
 "metadata": {
  "kernelspec": {
   "display_name": ".venv",
   "language": "python",
   "name": "python3"
  },
  "language_info": {
   "name": "python",
   "version": "3.11.9"
  }
 },
 "nbformat": 4,
 "nbformat_minor": 5
}
