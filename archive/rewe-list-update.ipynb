{
 "cells": [
  {
   "cell_type": "code",
   "execution_count": 13,
   "metadata": {},
   "outputs": [
    {
     "name": "stdout",
     "output_type": "stream",
     "text": [
      "                                              name   price  \\\n",
      "0               Fiore Natives Olivenöl extra 750ml  8,99 €   \n",
      "1                   Bertolli Cucina Olivenöl 500ml  7,99 €   \n",
      "2  Bertolli Originale Natives Olivenöl Extra 500ml  7,99 €   \n",
      "3            REWE Bio Natives Olivenöl extra 500ml  7,99 €   \n",
      "4  La Espanola Natives Olivenöl extra virgen 500ml           \n",
      "\n",
      "                    unit                                           imageUrl  \\\n",
      "0  0,75l (1 l = 11,99 €)  https://img.rewe-static.de/2372767/23629840_di...   \n",
      "1  500ml (1 l = 15,98 €)  https://img.rewe-static.de/4874854/27775625_di...   \n",
      "2  500ml (1 l = 15,98 €)  https://img.rewe-static.de/6551025/33112554_di...   \n",
      "3  500ml (1 l = 15,98 €)  https://img.rewe-static.de/0201409/26303545_di...   \n",
      "4  500ml (1 l = 13,98 €)  https://img.rewe-static.de/5475872/1207850_dig...   \n",
      "\n",
      "  product_type  \n",
      "0    olivenoel  \n",
      "1    olivenoel  \n",
      "2    olivenoel  \n",
      "3    olivenoel  \n",
      "4    olivenoel  \n",
      "CSV file 'all_products.csv' created successfully!\n"
     ]
    }
   ],
   "source": [
    "import json\n",
    "import pandas as pd\n",
    "\n",
    "with open('rewe-products-10115.json', 'r', encoding='utf-8') as f:\n",
    "    data = json.load(f)\n",
    "\n",
    "all_products = []\n",
    "\n",
    "for category, products in data.items():\n",
    "    for product in products:\n",
    "        product_copy = product.copy()\n",
    "        product_copy['product_type'] = category\n",
    "        all_products.append(product_copy)\n",
    "\n",
    "df = pd.DataFrame(all_products)\n",
    "print(df.head())\n",
    "\n",
    "# Export to CSV\n",
    "df.to_csv('rewe_products-115.csv', index=False, encoding='utf-8-sig')\n",
    "print(\"CSV file 'all_products.csv' created successfully!\")\n"
   ]
  },
  {
   "cell_type": "code",
   "execution_count": 14,
   "metadata": {},
   "outputs": [
    {
     "name": "stdout",
     "output_type": "stream",
     "text": [
      "                                              name   price  \\\n",
      "0  La Espanola Natives Olivenöl extra virgen 500ml  8,99 €   \n",
      "1               Fiore Natives Olivenöl extra 750ml  8,99 €   \n",
      "2                   Bertolli Cucina Olivenöl 500ml  7,99 €   \n",
      "3            REWE Bio Natives Olivenöl extra 500ml  7,99 €   \n",
      "4  Bertolli Originale Natives Olivenöl Extra 500ml  7,99 €   \n",
      "\n",
      "                    unit                                           imageUrl  \\\n",
      "0  500ml (1 l = 17,98 €)  https://img.rewe-static.de/5475872/1207850_dig...   \n",
      "1  0,75l (1 l = 11,99 €)  https://img.rewe-static.de/2372767/23629840_di...   \n",
      "2  500ml (1 l = 15,98 €)  https://img.rewe-static.de/4874854/27775625_di...   \n",
      "3  500ml (1 l = 15,98 €)  https://img.rewe-static.de/0201409/26303545_di...   \n",
      "4  500ml (1 l = 15,98 €)  https://img.rewe-static.de/6551025/33112554_di...   \n",
      "\n",
      "  product_type  \n",
      "0    olivenoel  \n",
      "1    olivenoel  \n",
      "2    olivenoel  \n",
      "3    olivenoel  \n",
      "4    olivenoel  \n",
      "CSV file 'all_products.csv' created successfully!\n"
     ]
    }
   ],
   "source": [
    "import json\n",
    "import pandas as pd\n",
    "\n",
    "with open('rewe-products-10117.json', 'r', encoding='utf-8') as f:\n",
    "    data = json.load(f)\n",
    "\n",
    "all_products = []\n",
    "\n",
    "for category, products in data.items():\n",
    "    for product in products:\n",
    "        product_copy = product.copy()\n",
    "        product_copy['product_type'] = category\n",
    "        all_products.append(product_copy)\n",
    "\n",
    "df = pd.DataFrame(all_products)\n",
    "print(df.head())\n",
    "\n",
    "# Export to CSV\n",
    "df.to_csv('rewe_products-117.csv', index=False, encoding='utf-8-sig')\n",
    "print(\"CSV file 'all_products.csv' created successfully!\")\n"
   ]
  },
  {
   "cell_type": "code",
   "execution_count": 15,
   "metadata": {},
   "outputs": [
    {
     "name": "stdout",
     "output_type": "stream",
     "text": [
      "                                              name   price  \\\n",
      "0               Fiore Natives Olivenöl extra 750ml  8,99 €   \n",
      "1                   Bertolli Cucina Olivenöl 500ml  7,99 €   \n",
      "2            REWE Bio Natives Olivenöl extra 500ml  7,99 €   \n",
      "3  Bertolli Originale Natives Olivenöl Extra 500ml  7,99 €   \n",
      "4  La Espanola Natives Olivenöl extra virgen 500ml           \n",
      "\n",
      "                    unit                                           imageUrl  \\\n",
      "0  0,75l (1 l = 11,99 €)  https://img.rewe-static.de/2372767/23629840_di...   \n",
      "1  500ml (1 l = 15,98 €)  https://img.rewe-static.de/4874854/27775625_di...   \n",
      "2  500ml (1 l = 15,98 €)  https://img.rewe-static.de/0201409/26303545_di...   \n",
      "3  500ml (1 l = 15,98 €)  https://img.rewe-static.de/6551025/33112554_di...   \n",
      "4  500ml (1 l = 13,98 €)  https://img.rewe-static.de/5475872/1207850_dig...   \n",
      "\n",
      "  product_type  \n",
      "0    olivenoel  \n",
      "1    olivenoel  \n",
      "2    olivenoel  \n",
      "3    olivenoel  \n",
      "4    olivenoel  \n",
      "CSV file 'all_products.csv' created successfully!\n"
     ]
    }
   ],
   "source": [
    "import json\n",
    "import pandas as pd\n",
    "\n",
    "with open('rewe-products-10119.json', 'r', encoding='utf-8') as f:\n",
    "    data = json.load(f)\n",
    "\n",
    "all_products = []\n",
    "\n",
    "for category, products in data.items():\n",
    "    for product in products:\n",
    "        product_copy = product.copy()\n",
    "        product_copy['product_type'] = category\n",
    "        all_products.append(product_copy)\n",
    "\n",
    "df = pd.DataFrame(all_products)\n",
    "print(df.head())\n",
    "\n",
    "# Export to CSV\n",
    "df.to_csv('rewe_products-119.csv', index=False, encoding='utf-8-sig')\n",
    "print(\"CSV file 'all_products.csv' created successfully!\")\n"
   ]
  }
 ],
 "metadata": {
  "kernelspec": {
   "display_name": ".venv",
   "language": "python",
   "name": "python3"
  },
  "language_info": {
   "codemirror_mode": {
    "name": "ipython",
    "version": 3
   },
   "file_extension": ".py",
   "mimetype": "text/x-python",
   "name": "python",
   "nbconvert_exporter": "python",
   "pygments_lexer": "ipython3",
   "version": "3.12.7"
  }
 },
 "nbformat": 4,
 "nbformat_minor": 2
}
